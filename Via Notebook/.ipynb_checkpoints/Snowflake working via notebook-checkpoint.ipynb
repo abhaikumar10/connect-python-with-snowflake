{
 "cells": [
  {
   "cell_type": "markdown",
   "id": "efb43d0c",
   "metadata": {},
   "source": [
    "# Getting ready"
   ]
  },
  {
   "cell_type": "code",
   "execution_count": null,
   "id": "fe6f3771",
   "metadata": {},
   "outputs": [],
   "source": [
    "import snowflake.connector\n",
    "import sys\n",
    "import pandas as pd\n",
    "import time as t"
   ]
  },
  {
   "cell_type": "code",
   "execution_count": null,
   "id": "d1b8591a",
   "metadata": {},
   "outputs": [],
   "source": [
    "f=open('sf_login.py','r').read()\n",
    "t = compile(f, 'sf_login.py', 'exec')\n",
    "s=exec(t)"
   ]
  },
  {
   "cell_type": "code",
   "execution_count": null,
   "id": "70d28400",
   "metadata": {},
   "outputs": [],
   "source": [
    "def runn(sql):                        \n",
    "    dataa=cur.execute(sql).fetchall()        # .fetchone(), .fetchmany(5)\n",
    "    names = [x[0] for x in cur.description]                      \n",
    "    out=pd.DataFrame(dataa,columns=names)\n",
    "    #return (out,names)\n",
    "    #To call use x=runn()\n",
    "    #out=x[0]\n",
    "    #names=x[1]\n",
    "    return (out)\n",
    "def run(codee):\n",
    "    sqll = open(codee,'r').read()                          \n",
    "    data=cur.execute(sqll).fetchall()        # .fetchone(), .fetchmany(5)\n",
    "    names = [x[0] for x in cur.description]                      \n",
    "    out=pd.DataFrame(data,columns=names)\n",
    "    return out    \n",
    "def export(dataout):\n",
    "    tt=t.ctime() \n",
    "    tt=tt.replace(':','_')                \n",
    "    loc= 'downloads\\data '+tt+'.csv'\n",
    "    dataout.to_csv(loc,index=0)\n",
    "    print('Export done, check downloads.')"
   ]
  },
  {
   "cell_type": "code",
   "execution_count": null,
   "id": "cf6b9abb",
   "metadata": {},
   "outputs": [],
   "source": [
    "code='code.sql'                    #run code via file use non relative if issue 'C:\\\\Users\\Abhay-28928\\downloads\\code.csv'\n",
    "sql=\"select current_timestamp\"  #run code directly from cmd\n"
   ]
  },
  {
   "cell_type": "markdown",
   "id": "3d948011",
   "metadata": {},
   "source": [
    "# Start Prep/Samples"
   ]
  },
  {
   "cell_type": "code",
   "execution_count": null,
   "id": "d441c9a0",
   "metadata": {},
   "outputs": [],
   "source": [
    "cur.sfqid #check connection\n",
    "cur"
   ]
  },
  {
   "cell_type": "code",
   "execution_count": null,
   "id": "d3cb9069",
   "metadata": {},
   "outputs": [],
   "source": [
    "df=runn(sql)\n",
    "#export(df)\n",
    "df"
   ]
  },
  {
   "cell_type": "markdown",
   "id": "9c05017e",
   "metadata": {},
   "source": [
    "# Start working\n"
   ]
  },
  {
   "cell_type": "code",
   "execution_count": null,
   "id": "af51323c",
   "metadata": {},
   "outputs": [],
   "source": []
  },
  {
   "cell_type": "code",
   "execution_count": null,
   "id": "77c20d94",
   "metadata": {},
   "outputs": [],
   "source": [
    "df=run(sql)"
   ]
  },
  {
   "cell_type": "code",
   "execution_count": null,
   "id": "80a9a552",
   "metadata": {},
   "outputs": [],
   "source": [
    "df"
   ]
  },
  {
   "cell_type": "code",
   "execution_count": null,
   "id": "7dd49bbd",
   "metadata": {},
   "outputs": [],
   "source": [
    "export(df)"
   ]
  },
  {
   "cell_type": "code",
   "execution_count": null,
   "id": "723c2c98",
   "metadata": {},
   "outputs": [],
   "source": []
  },
  {
   "cell_type": "code",
   "execution_count": null,
   "id": "1f64ba0a",
   "metadata": {},
   "outputs": [],
   "source": [
    "df=run(code.sql)"
   ]
  },
  {
   "cell_type": "code",
   "execution_count": null,
   "id": "08341103",
   "metadata": {},
   "outputs": [],
   "source": [
    "df"
   ]
  }
 ],
 "metadata": {
  "kernelspec": {
   "display_name": "Python 3 (ipykernel)",
   "language": "python",
   "name": "python3"
  },
  "language_info": {
   "codemirror_mode": {
    "name": "ipython",
    "version": 3
   },
   "file_extension": ".py",
   "mimetype": "text/x-python",
   "name": "python",
   "nbconvert_exporter": "python",
   "pygments_lexer": "ipython3",
   "version": "3.9.7"
  }
 },
 "nbformat": 4,
 "nbformat_minor": 5
}
