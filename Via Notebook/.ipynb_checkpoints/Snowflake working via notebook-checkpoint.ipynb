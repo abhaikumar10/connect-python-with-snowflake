{
 "cells": [
  {
   "cell_type": "markdown",
   "id": "efb43d0c",
   "metadata": {},
   "source": [
    "# Getting ready"
   ]
  },
  {
   "cell_type": "code",
   "execution_count": 517,
   "id": "fe6f3771",
   "metadata": {},
   "outputs": [],
   "source": [
    "import snowflake.connector\n",
    "import sys\n",
    "import pandas as pd\n",
    "import time as t"
   ]
  },
  {
   "cell_type": "code",
   "execution_count": 198,
   "id": "d1b8591a",
   "metadata": {},
   "outputs": [],
   "source": [
    "def login():\n",
    "    f=open('sf.login.py','r').read()\n",
    "    exec(f)"
   ]
  },
  {
   "cell_type": "code",
   "execution_count": 681,
   "id": "70d28400",
   "metadata": {},
   "outputs": [],
   "source": [
    "def runn(sql):                        \n",
    "    dataa=cur.execute(sql).fetchall()        # .fetchone(), .fetchmany(5)\n",
    "    names = [x[0] for x in cur.description]                      \n",
    "    out=pd.DataFrame(dataa,columns=names)\n",
    "    #return (out,names)\n",
    "    #To call use x=runn()\n",
    "    #out=x[0]\n",
    "    #names=x[1]\n",
    "    return (out)\n",
    "def run(codee):\n",
    "    sqll = open(codee,'r').read()                          \n",
    "    data=cur.execute(sqll).fetchall()        # .fetchone(), .fetchmany(5)\n",
    "    names = [x[0] for x in cur.description]                      \n",
    "    out=pd.DataFrame(data,columns=names)\n",
    "    return out    \n",
    "def export(dataout):\n",
    "    tt=t.ctime() \n",
    "    tt=tt.replace(':','_')                \n",
    "    loc= 'C:\\\\Users\\Abhay-28928\\downloads\\data '+tt+'.csv'\n",
    "    dataout.to_csv(loc,index=0)\n",
    "    print('Export done, check downloads.')"
   ]
  },
  {
   "cell_type": "code",
   "execution_count": 665,
   "id": "cf6b9abb",
   "metadata": {},
   "outputs": [],
   "source": [
    "code='code.sql'                    #run code via file use non relative if issue 'C:\\\\Users\\Abhay-28928\\downloads\\code.csv'\n",
    "sql=\"select current_timestamp\"  #run code directly from cmd\n"
   ]
  },
  {
   "cell_type": "markdown",
   "id": "3d948011",
   "metadata": {},
   "source": [
    "# Start Prep/Samples"
   ]
  },
  {
   "cell_type": "code",
   "execution_count": 676,
   "id": "d441c9a0",
   "metadata": {},
   "outputs": [
    {
     "data": {
      "text/plain": [
       "<snowflake.connector.cursor.SnowflakeCursor at 0x229466d7790>"
      ]
     },
     "execution_count": 676,
     "metadata": {},
     "output_type": "execute_result"
    }
   ],
   "source": [
    "cur.sfqid #check connection\n",
    "cur"
   ]
  },
  {
   "cell_type": "code",
   "execution_count": 677,
   "id": "d3cb9069",
   "metadata": {},
   "outputs": [
    {
     "data": {
      "text/html": [
       "<div>\n",
       "<style scoped>\n",
       "    .dataframe tbody tr th:only-of-type {\n",
       "        vertical-align: middle;\n",
       "    }\n",
       "\n",
       "    .dataframe tbody tr th {\n",
       "        vertical-align: top;\n",
       "    }\n",
       "\n",
       "    .dataframe thead th {\n",
       "        text-align: right;\n",
       "    }\n",
       "</style>\n",
       "<table border=\"1\" class=\"dataframe\">\n",
       "  <thead>\n",
       "    <tr style=\"text-align: right;\">\n",
       "      <th></th>\n",
       "      <th>CURRENT_TIMESTAMP</th>\n",
       "    </tr>\n",
       "  </thead>\n",
       "  <tbody>\n",
       "    <tr>\n",
       "      <th>0</th>\n",
       "      <td>2022-08-29 20:42:05.693000-07:00</td>\n",
       "    </tr>\n",
       "  </tbody>\n",
       "</table>\n",
       "</div>"
      ],
      "text/plain": [
       "                 CURRENT_TIMESTAMP\n",
       "0 2022-08-29 20:42:05.693000-07:00"
      ]
     },
     "execution_count": 677,
     "metadata": {},
     "output_type": "execute_result"
    }
   ],
   "source": [
    "df=runn(sql)\n",
    "#export(df)\n",
    "df"
   ]
  },
  {
   "cell_type": "markdown",
   "id": "9c05017e",
   "metadata": {},
   "source": [
    "# Start working\n"
   ]
  },
  {
   "cell_type": "code",
   "execution_count": 678,
   "id": "77c20d94",
   "metadata": {},
   "outputs": [],
   "source": [
    "df=run(sql)"
   ]
  },
  {
   "cell_type": "code",
   "execution_count": 679,
   "id": "80a9a552",
   "metadata": {},
   "outputs": [
    {
     "data": {
      "text/html": [
       "<div>\n",
       "<style scoped>\n",
       "    .dataframe tbody tr th:only-of-type {\n",
       "        vertical-align: middle;\n",
       "    }\n",
       "\n",
       "    .dataframe tbody tr th {\n",
       "        vertical-align: top;\n",
       "    }\n",
       "\n",
       "    .dataframe thead th {\n",
       "        text-align: right;\n",
       "    }\n",
       "</style>\n",
       "<table border=\"1\" class=\"dataframe\">\n",
       "  <thead>\n",
       "    <tr style=\"text-align: right;\">\n",
       "      <th></th>\n",
       "      <th>CURRENT_TIMESTAMP</th>\n",
       "    </tr>\n",
       "  </thead>\n",
       "  <tbody>\n",
       "    <tr>\n",
       "      <th>0</th>\n",
       "      <td>2022-08-29 20:47:39.177000-07:00</td>\n",
       "    </tr>\n",
       "  </tbody>\n",
       "</table>\n",
       "</div>"
      ],
      "text/plain": [
       "                 CURRENT_TIMESTAMP\n",
       "0 2022-08-29 20:47:39.177000-07:00"
      ]
     },
     "execution_count": 679,
     "metadata": {},
     "output_type": "execute_result"
    }
   ],
   "source": [
    "df"
   ]
  },
  {
   "cell_type": "code",
   "execution_count": 682,
   "id": "7dd49bbd",
   "metadata": {},
   "outputs": [
    {
     "name": "stdout",
     "output_type": "stream",
     "text": [
      "Export done, check downloads.\n"
     ]
    }
   ],
   "source": [
    "export(df)"
   ]
  },
  {
   "cell_type": "code",
   "execution_count": null,
   "id": "1f64ba0a",
   "metadata": {},
   "outputs": [],
   "source": [
    "df=run(code.sql)"
   ]
  },
  {
   "cell_type": "code",
   "execution_count": null,
   "id": "08341103",
   "metadata": {},
   "outputs": [],
   "source": [
    "df"
   ]
  }
 ],
 "metadata": {
  "kernelspec": {
   "display_name": "Python 3 (ipykernel)",
   "language": "python",
   "name": "python3"
  },
  "language_info": {
   "codemirror_mode": {
    "name": "ipython",
    "version": 3
   },
   "file_extension": ".py",
   "mimetype": "text/x-python",
   "name": "python",
   "nbconvert_exporter": "python",
   "pygments_lexer": "ipython3",
   "version": "3.9.7"
  }
 },
 "nbformat": 4,
 "nbformat_minor": 5
}
